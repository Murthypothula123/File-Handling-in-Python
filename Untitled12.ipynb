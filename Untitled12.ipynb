{
  "nbformat": 4,
  "nbformat_minor": 0,
  "metadata": {
    "colab": {
      "provenance": [],
      "authorship_tag": "ABX9TyN5xmFp7Yv9FUaNFFE1rdSA",
      "include_colab_link": true
    },
    "kernelspec": {
      "name": "python3",
      "display_name": "Python 3"
    },
    "language_info": {
      "name": "python"
    }
  },
  "cells": [
    {
      "cell_type": "markdown",
      "metadata": {
        "id": "view-in-github",
        "colab_type": "text"
      },
      "source": [
        "<a href=\"https://colab.research.google.com/github/Murthypothula123/File-Handling-in-Python/blob/main/Untitled12.ipynb\" target=\"_parent\"><img src=\"https://colab.research.google.com/assets/colab-badge.svg\" alt=\"Open In Colab\"/></a>"
      ]
    },
    {
      "cell_type": "code",
      "source": [
        "file = open(\"/content/PLN Murthy Resume.pdf\", \"rb\")   # 'rb' = read binary mode\n",
        "content = file.read()\n",
        "# Since the content is binary, it can't be directly printed.\n",
        "# If you need to work with the PDF content, consider using a library like PyPDF2.\n",
        "file.close()\n",
        "\n",
        "!pip install PyPDF2\n",
        "\n",
        "import PyPDF2\n",
        "\n",
        "pdf_file = open(\"/content/PLN Murthy Resume.pdf\", \"rb\")\n",
        "pdf_reader = PyPDF2.PdfReader(pdf_file)\n",
        "num_pages = len(pdf_reader.pages)\n",
        "text = \"\"\n",
        "for page_num in range(num_pages):\n",
        "    page = pdf_reader.pages[page_num]\n",
        "    text += page.extract_text()\n",
        "pdf_file.close()\n",
        "print(text)  # Now you can print the extracted text\n"
      ],
      "metadata": {
        "colab": {
          "base_uri": "https://localhost:8080/"
        },
        "id": "C6t5As3Ebzyy",
        "outputId": "73d6d8b1-651a-4c73-9cc7-4b95ee150835"
      },
      "execution_count": 4,
      "outputs": [
        {
          "output_type": "stream",
          "name": "stdout",
          "text": [
            "Requirement already satisfied: PyPDF2 in /usr/local/lib/python3.11/dist-packages (3.0.1)\n",
            " \n",
            "                     Pothula Lakshmi Narasimha Murthy  \n",
            " \n",
            "Vijayawada rural , 521108  \n",
            "6304451214  \n",
            "murthypothula22@gmail.com  \n",
            "www.linkedin.com/in/murthy -pothula -481a6521a  \n",
            "https://github.com/Murthypothula123  \n",
            "https://murthypothula.blogspot.com/  \n",
            " \n",
            "CAREER SUMMARY   \n",
            " \n",
            "• I am a graduate student passionate about data analysis and coding, proficient in C, \n",
            "Python, SQL, and Java.  \n",
            "• I have hands -on experience with tools like Pandas, NumPy, and Excel, focusing on \n",
            "machine learning and deep learning.  \n",
            "• I am eager to apply my academic kn owledge in practical projects and internships, \n",
            "seeking opportunities to grow in data science and AI.  \n",
            "• Having knowledge on ETL ( extract transform and load) where  we are extracting the \n",
            "data from multiple sources to target systems  \n",
            "• Having good knowledge  on SQL commands like  DDL, DML, DCL, TCL and DQL  \n",
            "• Having good knowledge on git  \n",
            "• Having good knowledge on SQL server management system  \n",
            "• Having good knowledge on stored procedure in SQL  \n",
            "• Having good knowledge  on info rmatica for e xtracting the data from multiple  sources  \n",
            " \n",
            "EDUCATION:   \n",
            "   Class       Year      Institution Name      Percentage  \n",
            "    MCA    2022 - 2024           K.B.N College           85%  \n",
            "  Degree    2019 - 2022  Andhra Loyola College           71% \n",
            "Intermediate    2017 - 2019  Andhra Loyola College           74% \n",
            " \n",
            "SKILLS AND STRENGTHS                                                                                                                        \n",
            "➢ Languages: C, Python, SQL, Java, MERN Stack , PL/SQL, SSIS. \n",
            "➢ Tools:  Informatica power center,  Tableau , Pandas , Git Hub,  Anaconda , NumPy, Microsoft Excel, \n",
            "MS Office, API.  \n",
            "➢ Technology: Artificial intelligence , Machine Learning, (Deep Learning -Beginner level) , \n",
            "(Generative AI -Beginner level) . \n",
            "ACADEMIC PROJECTS – Oct 2018 -April 2024   \n",
            "➢ Degree Project: Insurance Management System:  \n",
            "o System Purpose:  Developed an online micro insurance analysis and information \n",
            "management system with dynamic features such as a search tool for insurance articles, \n",
            "guidelines, and illustrations.  \n",
            "o My Role:  As the programmer, I designed the frontend using PHP for scripting, creating \n",
            "both admin and user models to enhance usability. The project utilized MySQL for the \n",
            "database, Apache server, and was developed on a Windows OS platform to streamline \n",
            "insurance information access and management.  \n",
            "  \n",
            "➢ MCA Project:  DRIVING DECISION STRATEGY(DDS)BASED ON MACHINE LEARNING FOR \n",
            "AN AUTONOMOUS VEHICLE:   \n",
            "• My Role:  As a Machine Learning Engineer, I contributed to the development of a Driving \n",
            "Decision Strategy (DDS) for a n autonomous vehicle, focusing on integrating machine learning \n",
            "techniques to enhance decision -making processes.  \n",
            "• System Purpose : The DDS aims to optimize decision -making in autonomous vehicles by \n",
            "leveraging machine learning, providing improved safety, efficiency, and adaptability in various \n",
            "driving conditions.  \n",
            " \n",
            "INTERSHIPS:   \n",
            "1.Credit Card Fraud Detection:  Built  a model to detect fraudulent credit card transactions using \n",
            "algorithms like Logistic Regression, Decision Trees, and Random Forests on a real dataset.  \n",
            " \n",
            "2.Spam SMS Detection:  Developed  an AI model to classify SMS messages as spam or legitimate using \n",
            "techniq ues like TF -IDF and classifiers such as Naive Bayes and Support Vector Machines.  \n",
            " \n",
            "3.Customer Churn Prediction:  Created  a model to predict customer churn using historical data and \n",
            "algorithms like Logistic Regression, Random Forests, and Gradient Boosting.  \n",
            " \n",
            "4.To -Do List:  Designed  a command -line or GUI -based Python application for managing and organizing \n",
            "tasks efficiently, allowing users to create, update, and track to -do lists.  \n",
            " \n",
            "5.Password Generator:  Developed  a Python application that generates strong, random passwords \n",
            "based on user -specified length and complexity.  \n",
            " \n",
            "6.Calculator:  Created  a basic Python calculator that performs arithmetic operations based on user \n",
            "input, designed for simple calculations.  \n",
            " \n",
            "7.Movi e Rating Prediction:  Built  a regression model in Python to predict movie ratings based on \n",
            "features like genre, director, and actors, analyzing historical movie data.  \n",
            " \n",
            "8.Iris Flower Classification:  Trained  a machine learning model using the Iris dataset to classify \n",
            "flowers into species based on sepal and petal measurements.  \n",
            " \n",
            "9.Sales Prediction Using Python:  Developed  a sales forecasting model using machine learning \n",
            "techniques to predict future sales and opt imize advertising strategies based on historical data.   \n",
            " \n",
            "CERTIFICATIONS:   \n",
            "➢ Python for data science  (cognitive ai)  \n",
            "➢ Applications of AI  (Great Learning)  \n",
            "➢ Artificial intelligence fundamentals  (Great Learning)  \n",
            "➢ ChatGPT for NLP (Great Learning)  \n",
            "➢ GitHub Copilot using Python (Great Learning)  \n",
            "➢ Introduction to Machine learning (Great Learning)  \n",
            "➢ Leveraging Ai for Governance Risk and compliance (LinkedIn)  \n",
            "➢ Machine learning model deployment using flask (Great Learning)  \n",
            "➢ Tech Trends (LinkedIn)  \n",
            "➢ Application programming interface (API) (Great Learning)  \n",
            " \n",
            "CO-CIRCULAR ACTIVITIES:   \n",
            "Spandana awakening of talent:  \n",
            "Won second prize on talent show in intermediate literary &cultural carnival.   \n",
            "Seva Mitra award :  \n",
            "Your contribution as a volunteer in selflessly providing government services to the public is \n",
            "unforgettable. This is an honorary award given by the state government in recognition of your \n",
            "invaluable service . \n",
            "Scentia -2k22 department of computer science :                                                                                                     \n",
            "Kodotek event of state level techno -meet organized  by the department of computer science, Andhra Loyola \n",
            "College.  \n",
            " \n",
            "ACHIEVMENTS:   \n",
            "➢ COMPLETED MY NCC B CERTIFICATE BY GRADE B                                                                          \n",
            "➢ COMPLTED IDSSC CAMP IN SECUNDRABAD                                                                                    \n",
            "➢ WON DISTRICT GOLD MEDAL ON RIFIL SHOOTING                                                                       \n",
            "➢ QUALIFED FOR PRE -NATIONALS IN RIFIL SHOOTING                                                                         \n",
            "➢ COMPLETED NAIONAL DISASTER MANAGMENT CAMP                                                                  \n",
            "➢ WON BRONZ E MEDAL IN RUNNING ON BALOCHAV TOURNMENT                                               \n",
            "➢ PARTICPATING DIFFERENT RUNNING MARATHONS IN ROTARY VIJAYAWADA MID TOWN   \n",
            "➢ WON SILVER MEDALS ON 100&200 METERS RUNNING RACE  \n",
            " \n",
            "PAPER PUBLICATIONS AND CONFERENCE DISCATIONS :  \n",
            "➢ PAPER PUBLICATION MACHINE LEARNING ON OVER VIEW                                     \n",
            "➢ GIVE GROUP PRESENTATION ON MACHINE LEARNING OVERVIEW  \n",
            " \n",
            " PERSONAL DETAILS:   \n",
            "➢ DATE OF BIRTH: 18TH AUG  2000  \n",
            "➢ MATIAL STATUS: UNMARRIED  \n",
            "➢ LANGAUGE KNOW: ENGLISH, HINDI, TELIGU  \n",
            " \n",
            "DECLARATION  \n",
            "I hereby declare that all the details furnished above are true to the best of my knowledge and belief.  \n",
            " \n",
            " \n",
            "Place:  Vijayawada                                                                            [POTHULA LAKSHMI NARASIMHA  MURTHY]  \n",
            " \n",
            " \n",
            " \n",
            "  \n",
            " \n"
          ]
        }
      ]
    },
    {
      "cell_type": "code",
      "source": [
        "file = open(\"sample.txt\", \"w\")   # 'w' = write mode (overwrites file)\n",
        "file.write(\"Hello from Python!\")\n",
        "file.close()\n"
      ],
      "metadata": {
        "id": "GXF4rc-ocZXu"
      },
      "execution_count": 8,
      "outputs": []
    },
    {
      "cell_type": "code",
      "source": [
        "file = open(\"/content/PLN Murthy Resume.pdf\", \"a\")   # 'a' = append mode\n",
        "file.write(\"\\nAnother line\")\n",
        "file.close()\n"
      ],
      "metadata": {
        "id": "YhLxMjjocmaW"
      },
      "execution_count": 11,
      "outputs": []
    },
    {
      "cell_type": "code",
      "source": [],
      "metadata": {
        "id": "K0g1k2AZdBmR"
      },
      "execution_count": null,
      "outputs": []
    }
  ]
}